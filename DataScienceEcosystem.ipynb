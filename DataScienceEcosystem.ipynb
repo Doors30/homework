{
 "cells": [
  {
   "cell_type": "markdown",
   "id": "e6e5a912-30bb-475a-987c-07e9540bc0cf",
   "metadata": {},
   "source": [
    "# Data Science Tools and Ecosystem "
   ]
  },
  {
   "cell_type": "markdown",
   "id": "cb5c1a29-85d7-48ac-b9f9-fbf4cad4e2aa",
   "metadata": {},
   "source": [
    "In this notebook, Data Science Tools and Ecosystem are summarized."
   ]
  },
  {
   "cell_type": "markdown",
   "id": "6216150a-9377-419c-92db-e168490c9fd1",
   "metadata": {},
   "source": [
    "**Objectives:**\n",
    "- List popular languages for Data Science.\n",
    "- Explain the basics of Python programming language.\n",
    "- Discuss the importance and use libraries in Python.\n",
    "- Show how to install and import libraries in Python.\n",
    "- Demonstrate how to use some common Data Science libraries like NumPy, Pandas and Matplotlib."
   ]
  },
  {
   "cell_type": "markdown",
   "id": "a3870a07-f25c-4e6d-ba2b-4012f80e1370",
   "metadata": {},
   "source": [
    "# Some of the popular languages that Data Scientists use are:"
   ]
  },
  {
   "cell_type": "markdown",
   "id": "24dfd36e-e829-46dc-af19-f8cf5c710ee1",
   "metadata": {},
   "source": [
    "1. Python\n",
    "2. R\n",
    "3. Julia"
   ]
  },
  {
   "cell_type": "markdown",
   "id": "a9c992a9-2c16-4e05-bf35-7bb8573326e8",
   "metadata": {},
   "source": [
    "# Some of the commonly used libraries used by Data Scientists include:"
   ]
  },
  {
   "cell_type": "markdown",
   "id": "8b41b379-319d-4971-ac35-2c9ebbf06f03",
   "metadata": {},
   "source": [
    "1. Numpy\n",
    "2. pandas\n",
    "3. Matplotlib\n",
    "4. Seaborn"
   ]
  },
  {
   "cell_type": "markdown",
   "id": "a6ee6f1f-61c0-4263-89c7-99f2b921cee3",
   "metadata": {},
   "source": [
    "| Data Science Tools |\n",
    "|--------------------|\n",
    "| Jupyter Notebook |\n",
    "| R studio|\n",
    "| Anaconda|"
   ]
  },
  {
   "cell_type": "markdown",
   "id": "380703f7-a72e-4010-aba3-83d12e0a2740",
   "metadata": {},
   "source": [
    "### Below are a few examples of evaluating arithmetic expression in Python"
   ]
  },
  {
   "cell_type": "code",
   "execution_count": null,
   "id": "ad5dfce9-e4bb-4e87-a116-5e913e32ea48",
   "metadata": {},
   "outputs": [],
   "source": [
    "# This a simple arithmetic expression to mutiply then add integers"
   ]
  },
  {
   "cell_type": "code",
   "execution_count": 10,
   "id": "4be4caef-f580-42b9-b6a1-bee50ac14670",
   "metadata": {
    "tags": []
   },
   "outputs": [
    {
     "data": {
      "text/plain": [
       "17"
      ]
     },
     "execution_count": 10,
     "metadata": {},
     "output_type": "execute_result"
    }
   ],
   "source": [
    "(3*4)+5"
   ]
  },
  {
   "cell_type": "code",
   "execution_count": null,
   "id": "5a40c57a-34ea-404e-a064-e8c0b743063d",
   "metadata": {},
   "outputs": [],
   "source": [
    "# This will convert 200 minutes to hours by dividing by 60"
   ]
  },
  {
   "cell_type": "code",
   "execution_count": 11,
   "id": "822b973d-a7ce-411e-baf8-840022fdceb4",
   "metadata": {
    "tags": []
   },
   "outputs": [
    {
     "data": {
      "text/plain": [
       "3.3333333333333335"
      ]
     },
     "execution_count": 11,
     "metadata": {},
     "output_type": "execute_result"
    }
   ],
   "source": [
    "200/60"
   ]
  },
  {
   "cell_type": "markdown",
   "id": "638260b4-137f-4779-b92b-62174c172d18",
   "metadata": {},
   "source": [
    "## Author"
   ]
  },
  {
   "cell_type": "markdown",
   "id": "21895840-1760-454f-b50d-63bd1efd3f02",
   "metadata": {
    "tags": []
   },
   "source": [
    "Mingming Zhu"
   ]
  },
  {
   "cell_type": "code",
   "execution_count": null,
   "id": "fdd30ee8-a187-497e-9624-edca710253e5",
   "metadata": {},
   "outputs": [],
   "source": []
  }
 ],
 "metadata": {
  "kernelspec": {
   "display_name": "Python",
   "language": "python",
   "name": "conda-env-python-py"
  },
  "language_info": {
   "codemirror_mode": {
    "name": "ipython",
    "version": 3
   },
   "file_extension": ".py",
   "mimetype": "text/x-python",
   "name": "python",
   "nbconvert_exporter": "python",
   "pygments_lexer": "ipython3",
   "version": "3.7.12"
  }
 },
 "nbformat": 4,
 "nbformat_minor": 5
}
